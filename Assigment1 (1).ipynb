{
 "cells": [
  {
   "cell_type": "markdown",
   "id": "a8504e71-83c0-4d9f-b2ea-40f7d2ecaa26",
   "metadata": {},
   "source": [
    "1. In the below elements which of them are values or an expression? eg:- values can be integer or string and expressions will be mathematical operators.\n",
    "* \n",
    "'hello'  :   This is a Value\n",
    "-87.8    :   This is a Value\n",
    "-        :   This is a expressions\n",
    "/        :   This is a Value\n",
    "+\t     :   This is a expressions\n",
    "6        :   This is a Value\n"
   ]
  },
  {
   "cell_type": "markdown",
   "id": "b4f98cf6-1cef-4bba-91e9-c0552fac2259",
   "metadata": {},
   "source": [
    "2. What is the difference between string and variable?\n",
    "Variables are symbols that we can use to store data in a program. \n",
    "\n",
    "Strings are data, so we can use them to fill up a variable."
   ]
  },
  {
   "cell_type": "markdown",
   "id": "32867a9c-7c3e-4808-88d2-f5c25851146d",
   "metadata": {},
   "source": [
    "3. Describe three different data types.\n",
    "Data Types\t\n",
    "1)Numeric\t(int, float, complex)\t\n",
    "It holds numeric values.\n",
    "\n",
    "2)String\t(str)\n",
    "It holds sequence of characters\n",
    "\n",
    "3)Sequence\t(list, tuple, range)\n",
    " It holds collection of items"
   ]
  },
  {
   "cell_type": "markdown",
   "id": "fc15bcfb-e6b2-43de-a691-0fc5e3507fdc",
   "metadata": {},
   "source": [
    "4. What is an expression made up of? What do all expressions do?\n",
    "An expression is a combination of values, variables, operators, and calls to functions. Expressions need to be evaluated. If you ask Python to print an expression, the interpreter evaluates the expression and displays the result.\n",
    "\n",
    "An expression is a combination of operators and operands that is interpreted to produce some other value."
   ]
  },
  {
   "cell_type": "markdown",
   "id": "2f5eeb9d-0857-48dc-a8fb-0127a5ec4f45",
   "metadata": {},
   "source": [
    "5. This assignment statements, like spam = 10. What is the difference between an expression and a statement?\n",
    "\n",
    "Expressions produce a value, and that value will be passed into the function. Statements don't produce a value.\n",
    "An expression in Python is a combination of operators and operands. An example of expression can be : x = x + 1 0 x = x + 10 x=x+10. \n",
    "In this expression, the first 1 0 10 10 is added to the variable x. \n",
    "After the addition is performed, the result is assigned to the variable x.\n",
    "\n",
    "\n",
    "\n",
    "A statement is not evaluated for some result. A statement is used for creating variables or for displaying values.\n",
    "# statement 1\n",
    "print('Hello')\n",
    "\n",
    "# statement 2\n",
    "x = 20\n",
    "\n",
    "# statement 3\n",
    "print(x)\n"
   ]
  },
  {
   "cell_type": "markdown",
   "id": "2535689f-45be-42d7-8f50-ee7183f81151",
   "metadata": {},
   "source": [
    "6. After running the following code, what does the variable bacon contain?\n",
    "bacon = 22\n",
    "bacon + 1\n",
    "\n",
    "The variable bacon contain 23."
   ]
  },
  {
   "cell_type": "code",
   "execution_count": 1,
   "id": "f037e165-d236-4c70-a0fc-7dbbd96e526b",
   "metadata": {},
   "outputs": [
    {
     "data": {
      "text/plain": [
       "23"
      ]
     },
     "execution_count": 1,
     "metadata": {},
     "output_type": "execute_result"
    }
   ],
   "source": [
    "bacon = 22\n",
    "bacon + 1\n"
   ]
  },
  {
   "cell_type": "code",
   "execution_count": null,
   "id": "9c536395-4af9-45af-b899-e1a0e81b9d18",
   "metadata": {},
   "outputs": [],
   "source": [
    "7. What should the values of the following two terms be?\n",
    "'spam' + 'spamspam'\n",
    "'spam' * 3\n",
    "The value the following tems is 'spamspamspam'"
   ]
  },
  {
   "cell_type": "code",
   "execution_count": 2,
   "id": "487479c1-ceef-480e-8635-4dca5d229c47",
   "metadata": {},
   "outputs": [
    {
     "data": {
      "text/plain": [
       "'spamspamspam'"
      ]
     },
     "execution_count": 2,
     "metadata": {},
     "output_type": "execute_result"
    }
   ],
   "source": [
    "'spam' + 'spamspam'\n",
    "'spam' * 3\n"
   ]
  },
  {
   "cell_type": "code",
   "execution_count": 3,
   "id": "cf1a466d-63e6-4e9e-92dc-349ff96e1705",
   "metadata": {},
   "outputs": [
    {
     "data": {
      "text/plain": [
       "'spamspamspam'"
      ]
     },
     "execution_count": 3,
     "metadata": {},
     "output_type": "execute_result"
    }
   ],
   "source": [
    "'spam' * 3"
   ]
  },
  {
   "cell_type": "code",
   "execution_count": null,
   "id": "31fbb9b1-1397-4fbc-b975-58af35838371",
   "metadata": {},
   "outputs": [],
   "source": [
    "8. Why is eggs a valid variable name while 100 is invalid?\n",
    "\n",
    "A variable name must start with a letter or the underscore character. A variable name cannot start with a number. \n",
    "A variable name can only contain alpha-numeric characters and underscores (A-z, 0-9, and _ )\n",
    "\n",
    "According to the defination eggs start from alphabales so it is valid variable name. and 100 start from number so \n",
    "it it is invalid variable name.\n",
    "\n"
   ]
  },
  {
   "cell_type": "markdown",
   "id": "3f115305-feae-4a4b-8c3d-2bb1fb5e5aaa",
   "metadata": {},
   "source": [
    "9. What three functions can be used to get the integer, floating-point number, or string version of a value?\n",
    "The int(), float(), and str() functions will evaluate to the integer, floating-point number, and string versions of the value passed to them."
   ]
  },
  {
   "cell_type": "code",
   "execution_count": null,
   "id": "e0ac3d03-7a2b-4665-8801-097a7160f470",
   "metadata": {},
   "outputs": [],
   "source": [
    "10. Why does this expression cause an error? How can you fix it?\n",
    "'I have eaten ' + 99 + ' burritos.'\n",
    "\n",
    "The expression causes an error because 99 is an integer, and\n",
    "only strings can be concatenated to other strings with the + operator. \n",
    "The correct way is I have eaten ' + str(99) + ' burritos.\n"
   ]
  },
  {
   "cell_type": "code",
   "execution_count": 5,
   "id": "6f82d8dc-e31d-4305-9075-c6203949d779",
   "metadata": {},
   "outputs": [
    {
     "data": {
      "text/plain": [
       "'I have eaten 99  burritos.'"
      ]
     },
     "execution_count": 5,
     "metadata": {},
     "output_type": "execute_result"
    }
   ],
   "source": [
    "'I have eaten ' + '99 '+ ' burritos.'"
   ]
  },
  {
   "cell_type": "code",
   "execution_count": null,
   "id": "8a777a3f-76e5-4b02-9fd1-554c3ee9da62",
   "metadata": {},
   "outputs": [],
   "source": []
  }
 ],
 "metadata": {
  "kernelspec": {
   "display_name": "Python 3 (ipykernel)",
   "language": "python",
   "name": "python3"
  },
  "language_info": {
   "codemirror_mode": {
    "name": "ipython",
    "version": 3
   },
   "file_extension": ".py",
   "mimetype": "text/x-python",
   "name": "python",
   "nbconvert_exporter": "python",
   "pygments_lexer": "ipython3",
   "version": "3.10.6"
  }
 },
 "nbformat": 4,
 "nbformat_minor": 5
}
